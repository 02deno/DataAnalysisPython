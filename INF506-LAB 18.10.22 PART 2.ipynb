{
 "cells": [
  {
   "cell_type": "code",
   "execution_count": null,
   "id": "e3a5e462",
   "metadata": {},
   "outputs": [],
   "source": [
    "import requests\n",
    "import pandas as pd\n",
    "from pandas.io.json import json_normalize \n",
    "url2 = 'https://raw.githubusercontent.com/wesm/pydata-book/3rd-edition/datasets/usda_food/database.json'\n",
    "resp = requests.get(url2)\n",
    "resp.raise_for_status()\n",
    "resp"
   ]
  },
  {
   "cell_type": "code",
   "execution_count": null,
   "id": "26f7c7ef",
   "metadata": {},
   "outputs": [],
   "source": [
    "usfood = resp.json()\n",
    "usfood"
   ]
  },
  {
   "cell_type": "code",
   "execution_count": null,
   "id": "43d931af",
   "metadata": {},
   "outputs": [],
   "source": [
    "len(usfood)"
   ]
  },
  {
   "cell_type": "code",
   "execution_count": null,
   "id": "65b31e7e",
   "metadata": {},
   "outputs": [],
   "source": [
    "usfood[0].keys()"
   ]
  },
  {
   "cell_type": "code",
   "execution_count": null,
   "id": "a2441290",
   "metadata": {},
   "outputs": [],
   "source": [
    "usfood[0][\"nutrients\"]"
   ]
  },
  {
   "cell_type": "code",
   "execution_count": null,
   "id": "bedf9af5",
   "metadata": {},
   "outputs": [],
   "source": [
    "len(usfood[0][\"nutrients\"])"
   ]
  },
  {
   "cell_type": "code",
   "execution_count": null,
   "id": "32762084",
   "metadata": {},
   "outputs": [],
   "source": [
    "usfood[0][\"nutrients\"][0]"
   ]
  },
  {
   "cell_type": "code",
   "execution_count": null,
   "id": "0d531cee",
   "metadata": {},
   "outputs": [],
   "source": [
    "nutrients = pd.DataFrame(usfood[0][\"nutrients\"])"
   ]
  },
  {
   "cell_type": "code",
   "execution_count": null,
   "id": "66ddb07e",
   "metadata": {},
   "outputs": [],
   "source": [
    "nutrients.head(7)"
   ]
  },
  {
   "cell_type": "code",
   "execution_count": null,
   "id": "cdd76f90",
   "metadata": {},
   "outputs": [],
   "source": [
    "info_keys = [\"description\", \"group\", \"id\", \"manufacturer\"]\n",
    "info = pd.DataFrame(usfood, columns=info_keys)\n",
    "info.head()"
   ]
  },
  {
   "cell_type": "code",
   "execution_count": null,
   "id": "d119068c",
   "metadata": {},
   "outputs": [],
   "source": [
    "info.info() #missing data in the manufacturer column"
   ]
  },
  {
   "cell_type": "code",
   "execution_count": null,
   "id": "e7af5748",
   "metadata": {},
   "outputs": [],
   "source": [
    "pd.value_counts(info[\"group\"])"
   ]
  },
  {
   "cell_type": "code",
   "execution_count": null,
   "id": "00cff476",
   "metadata": {},
   "outputs": [],
   "source": [
    "pd.value_counts(info[\"group\"])[:10]"
   ]
  },
  {
   "cell_type": "code",
   "execution_count": null,
   "id": "fb519fce",
   "metadata": {},
   "outputs": [],
   "source": [
    "nutrients = []\n",
    "\n",
    "for rec in usfood:\n",
    "    fnuts = pd.DataFrame(rec[\"nutrients\"])\n",
    "    fnuts[\"id\"] = rec[\"id\"]\n",
    "    nutrients.append(fnuts)\n",
    "\n",
    "nutrients = pd.concat(nutrients, ignore_index=True)"
   ]
  },
  {
   "cell_type": "code",
   "execution_count": null,
   "id": "ef336910",
   "metadata": {},
   "outputs": [],
   "source": [
    "nutrients"
   ]
  },
  {
   "cell_type": "code",
   "execution_count": null,
   "id": "18a6d378",
   "metadata": {},
   "outputs": [],
   "source": [
    "nutrients.duplicated().sum()  # number of duplicates"
   ]
  },
  {
   "cell_type": "code",
   "execution_count": null,
   "id": "0140760f",
   "metadata": {},
   "outputs": [],
   "source": [
    "nutrients = nutrients.drop_duplicates()\n",
    "nutrients"
   ]
  },
  {
   "cell_type": "code",
   "execution_count": null,
   "id": "28c41541",
   "metadata": {},
   "outputs": [],
   "source": [
    "col_mapping = {\"description\" : \"food\",\n",
    "               \"group\"       : \"fgroup\"}\n",
    "info = info.rename(columns=col_mapping, copy=False)\n",
    "info.info()"
   ]
  },
  {
   "cell_type": "code",
   "execution_count": null,
   "id": "7dc4344b",
   "metadata": {},
   "outputs": [],
   "source": [
    "col_mapping = {\"description\" : \"nutrient\",\n",
    "               \"group\" : \"nutgroup\"}\n",
    "nutrients = nutrients.rename(columns=col_mapping, copy=False)\n",
    "nutrients"
   ]
  },
  {
   "cell_type": "code",
   "execution_count": null,
   "id": "669846fd",
   "metadata": {},
   "outputs": [],
   "source": [
    "ndata = pd.merge(nutrients, info, on=\"id\")\n",
    "ndata.info()"
   ]
  },
  {
   "cell_type": "code",
   "execution_count": null,
   "id": "5ee493b2",
   "metadata": {},
   "outputs": [],
   "source": [
    "ndata"
   ]
  },
  {
   "cell_type": "code",
   "execution_count": null,
   "id": "2cb6d3f1",
   "metadata": {},
   "outputs": [],
   "source": [
    "ndata.iloc[30000] #satır indexi ile veriye ulaşma"
   ]
  },
  {
   "cell_type": "code",
   "execution_count": null,
   "id": "ca7de8f4",
   "metadata": {},
   "outputs": [],
   "source": [
    "result = ndata.groupby([\"nutrient\", \"fgroup\"])[\"value\"].quantile(0.5)\n",
    "result"
   ]
  },
  {
   "cell_type": "code",
   "execution_count": null,
   "id": "9bd29afd",
   "metadata": {},
   "outputs": [],
   "source": [
    "result2 = ndata.groupby([\"fgroup\"])[\"value\"].quantile(0.5)\n",
    "result2"
   ]
  },
  {
   "cell_type": "code",
   "execution_count": null,
   "id": "0b33416c",
   "metadata": {},
   "outputs": [],
   "source": [
    "result3 = ndata.groupby([\"nutrient\"])[\"value\"].quantile(0.5)\n",
    "result3"
   ]
  },
  {
   "cell_type": "code",
   "execution_count": null,
   "id": "ef06d63c",
   "metadata": {},
   "outputs": [],
   "source": [
    "result[\"Zinc, Zn\"].sort_values().plot(kind=\"barh\")"
   ]
  }
 ],
 "metadata": {
  "kernelspec": {
   "display_name": "Python 3 (ipykernel)",
   "language": "python",
   "name": "python3"
  },
  "language_info": {
   "codemirror_mode": {
    "name": "ipython",
    "version": 3
   },
   "file_extension": ".py",
   "mimetype": "text/x-python",
   "name": "python",
   "nbconvert_exporter": "python",
   "pygments_lexer": "ipython3",
   "version": "3.9.12"
  }
 },
 "nbformat": 4,
 "nbformat_minor": 5
}
