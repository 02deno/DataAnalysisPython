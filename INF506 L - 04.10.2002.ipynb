{
 "cells": [
  {
   "cell_type": "markdown",
   "id": "24812d8c",
   "metadata": {},
   "source": [
    "### Aufgabe 1"
   ]
  },
  {
   "cell_type": "code",
   "execution_count": null,
   "id": "506820ab",
   "metadata": {},
   "outputs": [],
   "source": [
    "array1 = ['python','PHP','java','C++']\n",
    "print(array)"
   ]
  },
  {
   "cell_type": "code",
   "execution_count": 5,
   "id": "cde7b2f0",
   "metadata": {},
   "outputs": [
    {
     "name": "stdout",
     "output_type": "stream",
     "text": [
      "['Python', 'Php', 'Java', 'C++']\n"
     ]
    }
   ],
   "source": [
    "#capitalize the first letter\n",
    "array2 = [ languages.capitalize() for languages in array]\n",
    "print(array2)"
   ]
  },
  {
   "cell_type": "code",
   "execution_count": 7,
   "id": "0995b593",
   "metadata": {},
   "outputs": [
    {
     "name": "stdout",
     "output_type": "stream",
     "text": [
      "['python', 'php', 'java', 'c++']\n"
     ]
    }
   ],
   "source": [
    "#lowercase\n",
    "array3 = [ languages.lower() for languages in array]\n",
    "print(array3)"
   ]
  },
  {
   "cell_type": "code",
   "execution_count": 10,
   "id": "dc8bdd72",
   "metadata": {},
   "outputs": [
    {
     "name": "stdout",
     "output_type": "stream",
     "text": [
      "['PYTHON', 'PHP', 'JAVA', 'C++']\n"
     ]
    }
   ],
   "source": [
    "#upper\n",
    "array4 = [ languages.upper() for languages in array]\n",
    "print(array4)"
   ]
  },
  {
   "cell_type": "code",
   "execution_count": 15,
   "id": "9842cc73",
   "metadata": {},
   "outputs": [
    {
     "name": "stdout",
     "output_type": "stream",
     "text": [
      "['PYTHON', 'PHP', 'JAVA', 'c++']\n"
     ]
    }
   ],
   "source": [
    "#swapcase\n",
    "array5 = [ languages.swapcase() for languages in array]\n",
    "print(array5)"
   ]
  },
  {
   "cell_type": "code",
   "execution_count": 16,
   "id": "475d1a25",
   "metadata": {},
   "outputs": [
    {
     "name": "stdout",
     "output_type": "stream",
     "text": [
      "['Python', 'Php', 'Java', 'C++']\n"
     ]
    }
   ],
   "source": [
    "#title case\n",
    "array6 = [ languages.title() for languages in array]\n",
    "print(array6)"
   ]
  },
  {
   "cell_type": "markdown",
   "id": "8c80a53f",
   "metadata": {},
   "source": [
    "### Aufgabe 2\n",
    "Write a numpy program to create a structured array from given studen name,weight,class and their data types.\n",
    "\n",
    "-Sort by class.\n",
    "\n",
    "-Sort by age,if classes are equal."
   ]
  },
  {
   "cell_type": "code",
   "execution_count": 15,
   "id": "95fe0d06",
   "metadata": {},
   "outputs": [
    {
     "name": "stdout",
     "output_type": "stream",
     "text": [
      "[('deniz', 3, 39.5), ('dilanur', 3, 49.2), ('alper', 1, 76.3), ('atakan', 2, 90.2)]\n"
     ]
    }
   ],
   "source": [
    "import numpy as np\n",
    "data_type = [('name', 'S15'), ('class', int), ('weight', float)]\n",
    "students_details=[('alper',1,76.3),('deniz',3,39.5),('atakan',2,90.2),('dilanur',3,49.2)]\n",
    "print(student_details)"
   ]
  },
  {
   "cell_type": "code",
   "execution_count": 16,
   "id": "8cab57c3",
   "metadata": {},
   "outputs": [
    {
     "name": "stdout",
     "output_type": "stream",
     "text": [
      "Original array:\n",
      "[(b'alper', 1, 76.3) (b'deniz', 3, 39.5) (b'atakan', 2, 90.2)\n",
      " (b'dilanur', 3, 49.2)]\n",
      "Sort by weight\n",
      "[(b'deniz', 3, 39.5) (b'dilanur', 3, 49.2) (b'alper', 1, 76.3)\n",
      " (b'atakan', 2, 90.2)]\n",
      "Sort by class, then weight if class are equal:\n",
      "[(b'alper', 1, 76.3) (b'atakan', 2, 90.2) (b'deniz', 3, 39.5)\n",
      " (b'dilanur', 3, 49.2)]\n"
     ]
    }
   ],
   "source": [
    "# create a structured array\n",
    "students = np.array(students_details, dtype=data_type)   \n",
    "print(\"Original array:\")\n",
    "print(students)\n",
    "print(\"Sort by weight\")\n",
    "print(np.sort(students, order='weight'))   \n",
    "print(\"Sort by class, then weight if class are equal:\")\n",
    "print(np.sort(students, order=['class', 'weight']))"
   ]
  },
  {
   "cell_type": "markdown",
   "id": "11ad0cb1",
   "metadata": {},
   "source": [
    "### Aufgabe 3 \n",
    "Write a numpy program to add a border (filled with 0's) to a given existing array."
   ]
  },
  {
   "cell_type": "code",
   "execution_count": 17,
   "id": "ed96f5dc",
   "metadata": {},
   "outputs": [
    {
     "name": "stdout",
     "output_type": "stream",
     "text": [
      "Original array:\n",
      "[[1. 1. 1.]\n",
      " [1. 1. 1.]\n",
      " [1. 1. 1.]]\n",
      "0 on the border and 1 inside in the array\n",
      "[[0. 0. 0. 0. 0.]\n",
      " [0. 1. 1. 1. 0.]\n",
      " [0. 1. 1. 1. 0.]\n",
      " [0. 1. 1. 1. 0.]\n",
      " [0. 0. 0. 0. 0.]]\n"
     ]
    }
   ],
   "source": [
    "import numpy as np\n",
    "x = np.ones((3,3))\n",
    "print(\"Original array:\")\n",
    "print(x)\n",
    "print(\"0 on the border and 1 inside in the array\")\n",
    "x = np.pad(x, pad_width=1, mode='constant', constant_values=0)\n",
    "print(x)"
   ]
  }
 ],
 "metadata": {
  "kernelspec": {
   "display_name": "Python 3 (ipykernel)",
   "language": "python",
   "name": "python3"
  },
  "language_info": {
   "codemirror_mode": {
    "name": "ipython",
    "version": 3
   },
   "file_extension": ".py",
   "mimetype": "text/x-python",
   "name": "python",
   "nbconvert_exporter": "python",
   "pygments_lexer": "ipython3",
   "version": "3.9.12"
  }
 },
 "nbformat": 4,
 "nbformat_minor": 5
}
